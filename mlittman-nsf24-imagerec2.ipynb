{
 "cells": [
  {
   "cell_type": "markdown",
   "metadata": {
    "id": "z5H9xehuahff"
   },
   "source": [
    "# Set up stuff"
   ]
  },
  {
   "cell_type": "markdown",
   "metadata": {
    "id": "XcV9bp_VhCIP"
   },
   "source": [
    "This notebook trains an image classification model.\n",
    "\n",
    "Try running with and without GPUs...\n",
    "\n",
    "In colab, one can add a GPU by clicking the `Runtime` menu and selecting `Change runtime type`. Selecting `GPU` as the hardware accelerator will allow for the usage of a GPU."
   ]
  },
  {
   "cell_type": "code",
   "execution_count": 3,
   "metadata": {
    "colab": {
     "base_uri": "https://localhost:8080/"
    },
    "executionInfo": {
     "elapsed": 32216,
     "status": "ok",
     "timestamp": 1712695093060,
     "user": {
      "displayName": "Michael Littman",
      "userId": "06751891446459829367"
     },
     "user_tz": 240
    },
    "id": "wk0s93zj_-ID",
    "outputId": "f78b6261-701d-4cb9-ddc3-6c4f8d02a7a0"
   },
   "outputs": [],
   "source": [
    "# Only uncomment the lines below if they images are not already downloaded and unzipped\n",
    "# !wget http://cs231n.stanford.edu/tiny-imagenet-200.zip\n",
    "# !unzip -q tiny-imagenet-200.zip"
   ]
  },
  {
   "cell_type": "code",
   "execution_count": 4,
   "metadata": {
    "id": "63fvpU0FT9aQ"
   },
   "outputs": [],
   "source": [
    "# n04067472 570 reel\n",
    "# n04540053 936 volleyball\n",
    "# n04099969 310 rocking_chair\n",
    "# n07749582 320 lemon\n",
    "# n01641577 499 bullfrog\n",
    "# n02802426 908 basketball\n",
    "# n09246464 359 cliff\n",
    "# n07920052 947 espresso\n",
    "# n03970156 378 plunger\n",
    "# n03891332 527 parking_meter\n",
    "# n02106662 211 German_shepherd\n",
    "# n03201208 315 dining_table\n",
    "# n02279972 643 monarch\n",
    "# n02132136 61 brown_bear\n",
    "# n04146614 962 school_bus\n",
    "# n07873807 948 pizza\n",
    "# n02364673 101 guinea_pig\n",
    "# n04507155 220 umbrella\n",
    "# n03854065 333 organ\n",
    "# n03838899 354 oboe\n",
    "# n03733131 598 maypole\n",
    "# n01443537 450 goldfish\n",
    "# n07875152 830 potpie\n",
    "# n03544143 525 hourglass\n",
    "# n09428293 367 seashore\n",
    "# n03085013 543 computer_keyboard\n",
    "# n02437312 121 Arabian_camel\n",
    "# n07614500 974 ice_cream\n",
    "# n03804744 585 nail\n",
    "# n04265275 515 space_heater\n",
    "# n02963159 836 cardigan\n",
    "# n02486410 137 baboon\n",
    "# n01944390 653 snail\n",
    "# n09256479 365 coral_reef\n",
    "# n02058221 441 albatross\n",
    "# n04275548 600 spider_web\n",
    "# n02321529 658 sea_cucumber\n",
    "# n02769748 847 backpack\n",
    "# n02099712 176 Labrador_retriever\n",
    "# n07695742 975 pretzel\n",
    "# n02056570 440 king_penguin\n",
    "# n02281406 645 sulphur_butterfly\n",
    "# n01774750 608 tarantula\n",
    "# n02509815 7 lesser_panda\n",
    "# n03983396 788 pop_bottle\n",
    "# n07753592 323 banana\n",
    "# n04254777 986 sock\n",
    "# n02233338 634 cockroach\n",
    "# n04008634 542 projectile\n",
    "# n02823428 777 beer_bottle\n",
    "# n02236044 635 mantis\n",
    "# n03393912 256 freight_car\n",
    "# n07583066 813 guacamole\n",
    "# n04074963 578 remote_control\n",
    "# n01629819 494 European_fire_salamander\n",
    "# n09332890 366 lakeside\n",
    "# n02481823 96 chimpanzee\n",
    "# n03902125 843 pay-phone\n",
    "# n03404251 757 fur_coat\n",
    "# n09193705 361 alp\n",
    "# n03637318 814 lampshade\n",
    "# n04456115 594 torch\n",
    "# n02666196 547 abacus\n",
    "# n03796401 284 moving_van\n",
    "# n02795169 905 barrel\n",
    "# n02123045 174 tabby\n",
    "# n01855672 420 goose\n",
    "# n01882714 213 koala\n",
    "# n02917067 887 bullet_train\n",
    "# n02988304 987 CD_player\n",
    "# n04398044 675 teapot\n",
    "# n02843684 839 birdhouse\n",
    "# n02423022 12 gazelle\n",
    "# n02669723 896 academic_gown\n",
    "# n04465501 289 tractor\n",
    "# n02165456 622 ladybug\n",
    "# n03770439 880 miniskirt\n",
    "# n02099601 125 golden_retriever\n",
    "# n04486054 678 triumphal_arch\n",
    "# n02950826 539 cannon\n",
    "# n03814639 595 neck_brace\n",
    "# n04259630 925 sombrero\n",
    "# n03424325 971 gasmask\n",
    "# n02948072 591 candle\n",
    "# n03179701 313 desk\n",
    "# n03400231 671 frying_pan\n",
    "# n02206856 630 bee\n",
    "# n03160309 720 dam\n",
    "# n01984695 618 spiny_lobster\n",
    "# n03977966 285 police_van\n",
    "# n03584254 980 iPod\n",
    "# n04023962 846 punching_bag\n",
    "# n02814860 733 beacon\n",
    "# n01910747 647 jellyfish\n",
    "# n04596742 672 wok\n",
    "# n03992509 566 potter's_wheel\n",
    "# n04133789 751 sandal\n",
    "# n03937543 901 pill_bottle\n",
    "# n02927161 707 butcher_shop\n",
    "# n01945685 654 slug\n",
    "# n02395406 147 hog\n",
    "# n02125311 11 cougar\n",
    "# n03126707 545 crane\n",
    "# n04532106 790 vestment\n",
    "# n02268443 639 dragonfly\n",
    "# n02977058 548 cash_machine\n",
    "# n07734744 746 mushroom\n",
    "# n03599486 294 jinrikisha\n",
    "# n04562935 795 water_tower\n",
    "# n03014705 762 chest\n",
    "# n04251144 507 snorkel\n",
    "# n04356056 535 sunglasses\n",
    "# n02190166 629 fly\n",
    "# n03670208 270 limousine\n",
    "# n02002724 423 black_stork\n",
    "# n02074367 193 dugong\n",
    "# n04285008 274 sports_car\n",
    "# n04560804 819 water_jug\n",
    "# n04366367 681 suspension_bridge\n",
    "# n02403003 108 ox\n",
    "# n07615774 968 ice_lolly\n",
    "# n04501370 727 turnstile\n",
    "# n03026506 801 Christmas_stocking\n",
    "# n02906734 851 broom\n",
    "# n01770393 603 scorpion\n",
    "# n04597913 951 wooden_spoon\n",
    "# n03930313 722 picket_fence\n",
    "# n04118538 876 rugby_ball\n",
    "# n04179913 559 sewing_machine\n",
    "# n04311004 680 steel_arch_bridge\n",
    "# n02123394 10 Persian_cat\n",
    "# n04070727 668 refrigerator\n",
    "# n02793495 683 barn\n",
    "# n02730930 845 apron\n",
    "# n02094433 59 Yorkshire_terrier\n",
    "# n04371430 945 swimming_trunks\n",
    "# n04328186 528 stopwatch\n",
    "# n03649909 374 lawn_mower\n",
    "# n04417672 989 thatch\n",
    "# n03388043 712 fountain\n",
    "# n01774384 607 black_widow\n",
    "# n02837789 985 bikini\n",
    "# n07579787 754 plate\n",
    "# n04399382 786 teddy\n",
    "# n02791270 705 barbershop\n",
    "# n03089624 708 confectionery\n",
    "# n02814533 266 beach_wagon\n",
    "# n04149813 729 scoreboard\n",
    "# n07747607 319 orange\n",
    "# n03355925 995 flagpole\n",
    "# n01983481 617 American_lobster\n",
    "# n04487081 882 trolleybus\n",
    "# n03250847 799 drumstick\n",
    "# n03255030 1000 dumbbell\n",
    "# n02892201 716 brass\n",
    "# n02883205 817 bow_tie\n",
    "# n03100240 268 convertible\n",
    "# n02415577 52 bighorn\n",
    "# n02480495 83 orangutan\n",
    "# n01698640 476 American_alligator\n",
    "# n01784675 611 centipede\n",
    "# n04376876 531 syringe\n",
    "# n03444034 275 go-kart\n",
    "# n01917289 649 brain_coral\n",
    "# n01950731 655 sea_slug\n",
    "# n03042490 713 cliff_dwelling\n",
    "# n07711569 734 mashed_potato\n",
    "# n04532670 682 viaduct\n",
    "# n03763968 866 military_uniform\n",
    "# n07768694 326 pomegranate\n",
    "# n02999410 827 chain\n",
    "# n03617480 770 kimono\n",
    "# n06596364 930 comic_book\n",
    "# n01768244 601 trilobite\n",
    "# n02410509 165 bison\n",
    "# n03976657 923 pole\n",
    "# n01742172 486 boa_constrictor\n",
    "# n03980874 855 poncho\n",
    "# n02808440 884 bathtub\n",
    "# n02226429 631 grasshopper\n",
    "# n02231487 633 walking_stick\n",
    "# n02085620 173 Chihuahua\n",
    "# n01644900 501 tailed_frog\n",
    "# n02129165 190 lion\n",
    "# n02699494 677 altar\n",
    "# n03837869 699 obelisk\n",
    "# n02815834 991 beaker\n",
    "# n07720875 735 bell_pepper\n",
    "# n02788148 718 bannister\n",
    "# n02909870 820 bucket\n",
    "# n03706229 532 magnetic_compass\n",
    "# n07871810 806 meat_loaf\n",
    "# n03447447 236 gondola\n",
    "# n02113799 151 standard_poodle\n",
    "# n12267677 327 acorn\n",
    "# n03662601 238 lifeboat\n",
    "# n02841315 533 binoculars\n",
    "# n07715103 738 cauliflower\n",
    "# n02504458 24 African_elephant"
   ]
  },
  {
   "cell_type": "code",
   "execution_count": 5,
   "metadata": {
    "id": "JjMV8ayOUOJV"
   },
   "outputs": [],
   "source": [
    "# Bugs vs. other animals\n",
    "\n",
    "animals = ['n01443537','n01629819','n01641577','n01644900','n01698640','n01742172',\n",
    "          'n01855672','n01882714','n02002724','n02056570','n02058221','n02074367',\n",
    "          'n02085620','n02094433','n02099601','n02099712','n02106662','n02113799',\n",
    "          'n02123045','n02123394','n02124075','n02125311','n02129165','n02132136',\n",
    "          'n02364673','n02395406','n02403003','n02410509','n02415577','n02423022',\n",
    "          'n02437312','n02480495','n02481823','n02486410','n02504458','n02509815']\n",
    "bugs = ['n01770393','n01774384','n01774750','n01784675','n02165456','n02190166',\n",
    "          'n02206856','n02226429','n02231487','n02233338','n02236044','n02268443',\n",
    "          'n02279972','n02281406']"
   ]
  },
  {
   "cell_type": "code",
   "execution_count": 6,
   "metadata": {
    "id": "nOgXVsWJUTuH"
   },
   "outputs": [],
   "source": [
    "# Cats vs. dogs\n",
    "# n02106662 211 German_shepherd\n",
    "# n02099712 176 Labrador_retriever\n",
    "# n02099601 125 golden_retriever\n",
    "# n02094433 59 Yorkshire_terrier\n",
    "# n02085620 173 Chihuahua\n",
    "# n02113799 151 standard_poodle\n",
    "\n",
    "# n02123045 174 tabby\n",
    "# n02123394 10 Persian_cat\n",
    "\n",
    "dogs = ['n02106662','n02099712','n02099601','n02094433','n02085620','n02113799']\n",
    "cats = ['n02123045','n02123394']\n",
    "vehicles = ['n04146614','n03393912','n03796401','n02917067','n04465501','n03977966',\n",
    "            'n03670208','n04285008','n04487081','n03100240']\n",
    "clothes = ['n02963159','n03770439','n04259630','n02837789','n03763968','n03617480',\n",
    "           'n03980874']\n",
    "sport = ['n04540053','n02802426','n04118538']\n",
    "furniture = ['n04099969','n03201208','n03179701']\n",
    "fruit = ['n07749582','n07747607','n07768694','n07720875']"
   ]
  },
  {
   "cell_type": "code",
   "execution_count": 7,
   "metadata": {
    "id": "w7GubYqMe6Hz"
   },
   "outputs": [],
   "source": [
    "## vehicles\n",
    "# n04146614 962 school_bus\n",
    "# n03393912 256 freight_car\n",
    "# n03796401 284 moving_van\n",
    "# n02917067 887 bullet_train\n",
    "# n04465501 289 tractor\n",
    "# n03977966 285 police_van\n",
    "# n03670208 270 limousine\n",
    "# n04285008 274 sports_car\n",
    "# n04487081 882 trolleybus\n",
    "# n03100240 268 convertible\n",
    "\n",
    "## clothes\n",
    "# n02963159 836 cardigan\n",
    "# n03770439 880 miniskirt\n",
    "# n04259630 925 sombrero\n",
    "# n02837789 985 bikini\n",
    "# n03763968 866 military_uniform\n",
    "# n03617480 770 kimono\n",
    "# n03980874 855 poncho\n",
    "\n",
    "## balls\n",
    "# n04540053 936 volleyball\n",
    "# n02802426 908 basketball\n",
    "# n04118538 876 rugby_ball\n",
    "\n",
    "## furniture\n",
    "# n04099969 310 rocking_chair\n",
    "# n03201208 315 dining_table\n",
    "# n03179701 313 desk\n",
    "\n",
    "## fruit/vegetable\n",
    "# n07749582 320 lemon\n",
    "# n07747607 319 orange\n",
    "# n07768694 326 pomegranate\n",
    "# n07720875 735 bell_pepper\n"
   ]
  },
  {
   "cell_type": "code",
   "execution_count": 8,
   "metadata": {
    "id": "01NQmL5kf1aa"
   },
   "outputs": [],
   "source": [
    "cats_0 = vehicles\n",
    "cats_1 = furniture"
   ]
  },
  {
   "cell_type": "markdown",
   "metadata": {
    "id": "r8UPlT7XhXsz"
   },
   "source": [
    "We’ll import some code for image processing. We’ll use `keras` for building our algorithm and `numpy` for working with vectors. We’ll also use a function from `sklearn`, the scikit learn library, for splitting up training and testing vectors.\n",
    "\n",
    "\n"
   ]
  },
  {
   "cell_type": "code",
   "execution_count": 9,
   "metadata": {
    "colab": {
     "base_uri": "https://localhost:8080/"
    },
    "executionInfo": {
     "elapsed": 12306,
     "status": "ok",
     "timestamp": 1712695105358,
     "user": {
      "displayName": "Michael Littman",
      "userId": "06751891446459829367"
     },
     "user_tz": 240
    },
    "id": "63fNdjPFAACr",
    "outputId": "20f03695-4735-448c-9a9c-c208b9ff5e5c"
   },
   "outputs": [
    {
     "name": "stderr",
     "output_type": "stream",
     "text": [
      "2024-04-29 19:23:45.996685: E external/local_xla/xla/stream_executor/cuda/cuda_dnn.cc:9373] Unable to register cuDNN factory: Attempting to register factory for plugin cuDNN when one has already been registered\n",
      "2024-04-29 19:23:45.996724: E external/local_xla/xla/stream_executor/cuda/cuda_fft.cc:607] Unable to register cuFFT factory: Attempting to register factory for plugin cuFFT when one has already been registered\n",
      "2024-04-29 19:23:45.997726: E external/local_xla/xla/stream_executor/cuda/cuda_blas.cc:1534] Unable to register cuBLAS factory: Attempting to register factory for plugin cuBLAS when one has already been registered\n",
      "2024-04-29 19:23:46.003557: I tensorflow/core/platform/cpu_feature_guard.cc:183] This TensorFlow binary is optimized to use available CPU instructions in performance-critical operations.\n",
      "To enable the following instructions: SSE3 SSE4.1 SSE4.2 AVX, in other operations, rebuild TensorFlow with the appropriate compiler flags.\n"
     ]
    }
   ],
   "source": [
    "# Don't install keras. It's already installed.\n",
    "# !pip install keras=='2.13.1'\n",
    "\n",
    "from PIL import Image\n",
    "from keras.preprocessing import image\n",
    "from keras.applications.vgg16 import preprocess_input\n",
    "import numpy as np\n",
    "from sklearn.model_selection import train_test_split"
   ]
  },
  {
   "cell_type": "markdown",
   "metadata": {
    "id": "Gdt-rlrnjfpj"
   },
   "source": [
    "Code to help prepare a training set from the category names."
   ]
  },
  {
   "cell_type": "code",
   "execution_count": 10,
   "metadata": {
    "id": "J_pmTe_rAAFn"
   },
   "outputs": [],
   "source": [
    "# Redefine read_cats to preprocess inputs\n",
    "def read_cats(cats, lab, train_size, test_size):\n",
    "  vecs = []\n",
    "  labs = []\n",
    "  for c in cats:\n",
    "    for i in range(500):\n",
    "      img = image.load_img(\"tiny-imagenet-200/train/\"+c+\"/images/\"+c+\"_\"+str(i)+\".JPEG\")\n",
    "      img_arr = image.img_to_array(img)\n",
    "      img_arr = preprocess_input(img_arr)\n",
    "      img_arr = img_arr.flatten()\n",
    "      img_arr = img_arr / 128. - 1\n",
    "      img_arr = img_arr.reshape(64,64,3)\n",
    "      vecs += [img_arr]\n",
    "      labs += [lab]\n",
    "  vecs = np.asarray(vecs)\n",
    "  return(train_test_split(vecs,labs, train_size=train_size,test_size=test_size))"
   ]
  },
  {
   "cell_type": "markdown",
   "metadata": {
    "id": "DHEe8jMxoB78"
   },
   "source": [
    "Assemble an appropriately structured network for processing these images.\n"
   ]
  },
  {
   "cell_type": "code",
   "execution_count": 11,
   "metadata": {
    "id": "uRZHJmk-AATB"
   },
   "outputs": [],
   "source": [
    "def build_network():\n",
    "  import keras\n",
    "  from keras.models import Sequential\n",
    "  from keras.layers import Dense, Activation, Dropout, Flatten\n",
    "  from keras.layers import Conv2D\n",
    "  from keras.layers import MaxPooling2D\n",
    "  input_shape = (64, 64, 3)\n",
    "  #Instantiate an empty model\n",
    "  model = Sequential()\n",
    "  model.add(Conv2D(64, (3, 3), input_shape=input_shape, padding='same', activation='relu'))\n",
    "  model.add(Conv2D(64, (3, 3), padding='same', activation='relu'))\n",
    "  model.add(MaxPooling2D(pool_size=(2, 2), strides=(2, 2)))\n",
    "  model.add(Conv2D(128, (3, 3), padding='same', activation='relu'))\n",
    "  model.add(Conv2D(128, (3, 3), padding='same', activation='relu'))\n",
    "  model.add(MaxPooling2D(pool_size=(2, 2), strides=(2, 2)))\n",
    "  model.add(Conv2D(256, (3, 3), padding='same', activation='relu'))\n",
    "  model.add(Conv2D(256, (3, 3), padding='same', activation='relu'))\n",
    "  model.add(Conv2D(256, (3, 3), padding='same', activation='relu'))\n",
    "  model.add(MaxPooling2D(pool_size=(2, 2), strides=(2, 2)))\n",
    "  model.add(Conv2D(512, (3, 3), padding='same', activation='relu'))\n",
    "  model.add(Conv2D(512, (3, 3), padding='same', activation='relu'))\n",
    "  model.add(Conv2D(512, (3, 3), padding='same', activation='relu'))\n",
    "  model.add(MaxPooling2D(pool_size=(2, 2), strides=(2, 2)))\n",
    "  model.add(Conv2D(512, (3, 3), padding='same', activation='relu'))\n",
    "  model.add(Conv2D(512, (3, 3), padding='same', activation='relu'))\n",
    "  model.add(Conv2D(512, (3, 3), padding='same', activation='relu'))\n",
    "  model.add(MaxPooling2D(pool_size=(2, 2), strides=(2, 2)))\n",
    "  model.add(Flatten())\n",
    "  model.add(Dense(4096, activation='relu'))\n",
    "  model.add(Dense(4096, activation='relu'))\n",
    "  model.add(Dense(1, activation='sigmoid'))\n",
    "  return(model)"
   ]
  },
  {
   "cell_type": "markdown",
   "metadata": {
    "id": "Gm7Qbe6l1XN7"
   },
   "source": [
    "Build up training and testing sets."
   ]
  },
  {
   "cell_type": "code",
   "execution_count": 12,
   "metadata": {
    "id": "GgQXgNJWa_ne"
   },
   "outputs": [],
   "source": [
    "def train_model(cats_0, cats_1, iterations=50):\n",
    "  # running again with maximum training data\n",
    "  X0_train, X0_test, y0_train, y0_test = read_cats(cats_0, 0, 1000, 500)\n",
    "  X1_train, X1_test, y1_train, y1_test = read_cats(cats_1, 1, 1000, 500)\n",
    "  X_train = np.concatenate((X0_train, X1_train))\n",
    "  X_test = np.concatenate((X0_test, X1_test))\n",
    "  y_train = np.concatenate((y0_train, y1_train))\n",
    "  y_test = np.concatenate((y0_test, y1_test))\n",
    "\n",
    "  model.fit(X_train,y_train,epochs=iterations)\n",
    "\n",
    "  print(model.evaluate(X_test,y_test))\n",
    "  print(model.evaluate(X_train,y_train))\n",
    "  return (X_test, y_test)"
   ]
  },
  {
   "cell_type": "markdown",
   "metadata": {
    "id": "ff9zS7cJr1YG"
   },
   "source": [
    "Let's spot check the testing data.\n"
   ]
  },
  {
   "cell_type": "code",
   "execution_count": 13,
   "metadata": {
    "id": "DL42XjefAAZH"
   },
   "outputs": [],
   "source": [
    "import random\n",
    "from keras.preprocessing import image\n",
    "from keras.applications.vgg16 import preprocess_input\n",
    "#i = random.randint(0,len(y_test)-1)\n",
    "\n",
    "#print(y_test[i])\n",
    "#img_arr = X_test[i]\n",
    "#img = image.array_to_img(img_arr)\n",
    "#img"
   ]
  },
  {
   "cell_type": "markdown",
   "metadata": {
    "id": "a7bEm2zx1g1C"
   },
   "source": [
    "We build and compile our model again."
   ]
  },
  {
   "cell_type": "code",
   "execution_count": 14,
   "metadata": {
    "id": "HoLXWN6TN3La"
   },
   "outputs": [
    {
     "name": "stderr",
     "output_type": "stream",
     "text": [
      "2024-04-29 19:23:55.467742: E external/local_xla/xla/stream_executor/cuda/cuda_driver.cc:274] failed call to cuInit: CUDA_ERROR_NO_DEVICE: no CUDA-capable device is detected\n",
      "2024-04-29 19:23:55.467772: I external/local_xla/xla/stream_executor/cuda/cuda_diagnostics.cc:129] retrieving CUDA diagnostic information for host: 830ebbacc5e3\n",
      "2024-04-29 19:23:55.467777: I external/local_xla/xla/stream_executor/cuda/cuda_diagnostics.cc:136] hostname: 830ebbacc5e3\n",
      "2024-04-29 19:23:55.467838: I external/local_xla/xla/stream_executor/cuda/cuda_diagnostics.cc:159] libcuda reported version is: 550.54.14\n",
      "2024-04-29 19:23:55.467852: I external/local_xla/xla/stream_executor/cuda/cuda_diagnostics.cc:163] kernel reported version is: 535.129.3\n",
      "2024-04-29 19:23:55.467857: E external/local_xla/xla/stream_executor/cuda/cuda_diagnostics.cc:244] kernel version 535.129.3 does not match DSO version 550.54.14 -- cannot find working devices in this configuration\n"
     ]
    }
   ],
   "source": [
    "from keras import optimizers\n",
    "\n",
    "solver = optimizers.SGD(learning_rate=0.05)\n",
    "model = build_network()\n",
    "model.compile(loss='mean_squared_error', optimizer=solver, metrics=['accuracy'])"
   ]
  },
  {
   "cell_type": "markdown",
   "metadata": {
    "id": "BZhps5hTcTvb"
   },
   "source": [
    "Code for picking an example and testing on it."
   ]
  },
  {
   "cell_type": "code",
   "execution_count": 15,
   "metadata": {
    "id": "QfaIFEk6cWZI"
   },
   "outputs": [],
   "source": [
    "def dotest(labels):\n",
    "  i = random.randint(0,len(y_test)-1)\n",
    "  x = X_test[i].reshape(1,64,64,3)\n",
    "  y = model.predict(x)[0][0]\n",
    "  print(\"Picture is labeled as \"+ labels[y_test[i]] + \".\")\n",
    "  # print(y_test[i],y)\n",
    "  degrees = [\"has an inkling it could be\", \"suspects it could be\", \"believes it is\", \"has some confidence it is\", \"is pretty sure it is\", \"is sure it is\"]\n",
    "  degree = np.round(np.abs(y - 0.5)*10).astype(int)\n",
    "  if y >= 0.5:\n",
    "    best_guess = 1\n",
    "  else:\n",
    "    best_guess = 0\n",
    "  print(\"Model \" + degrees[degree] + \" \" + labels[best_guess] + \" (\" + str(y) + \").\")\n",
    "  img_arr = X_test[i]\n",
    "  img = image.array_to_img(img_arr)\n",
    "  return(img)"
   ]
  },
  {
   "cell_type": "markdown",
   "metadata": {
    "id": "-11NQ7SXfnXt"
   },
   "source": [
    "Math library."
   ]
  },
  {
   "cell_type": "code",
   "execution_count": 16,
   "metadata": {
    "id": "alcmJ5wYfozn"
   },
   "outputs": [],
   "source": [
    "import math"
   ]
  },
  {
   "cell_type": "markdown",
   "metadata": {
    "id": "KuEsrmpyaO-J"
   },
   "source": [
    "# Train and test\n",
    "\n"
   ]
  },
  {
   "cell_type": "code",
   "execution_count": 17,
   "metadata": {
    "colab": {
     "base_uri": "https://localhost:8080/"
    },
    "executionInfo": {
     "elapsed": 40663,
     "status": "ok",
     "timestamp": 1712699525802,
     "user": {
      "displayName": "Michael Littman",
      "userId": "06751891446459829367"
     },
     "user_tz": 240
    },
    "id": "_VqYJQvrPYPP",
    "outputId": "480993f4-db2e-401a-fd46-8de5caf8c408"
   },
   "outputs": [
    {
     "name": "stdout",
     "output_type": "stream",
     "text": [
      "Epoch 1/10\n",
      "63/63 [==============================] - 71s 1s/step - loss: 0.2499 - accuracy: 0.5340\n",
      "Epoch 2/10\n",
      "63/63 [==============================] - 74s 1s/step - loss: 0.2492 - accuracy: 0.5845\n",
      "Epoch 3/10\n",
      "63/63 [==============================] - 74s 1s/step - loss: 0.2477 - accuracy: 0.6580\n",
      "Epoch 4/10\n",
      "63/63 [==============================] - 72s 1s/step - loss: 0.2440 - accuracy: 0.6760\n",
      "Epoch 5/10\n",
      "63/63 [==============================] - 73s 1s/step - loss: 0.2329 - accuracy: 0.6585\n",
      "Epoch 6/10\n",
      "63/63 [==============================] - 73s 1s/step - loss: 0.2242 - accuracy: 0.6660\n",
      "Epoch 7/10\n",
      "63/63 [==============================] - 68s 1s/step - loss: 0.2009 - accuracy: 0.7275\n",
      "Epoch 8/10\n",
      "63/63 [==============================] - 73s 1s/step - loss: 0.1752 - accuracy: 0.7625\n",
      "Epoch 9/10\n",
      "63/63 [==============================] - 72s 1s/step - loss: 0.1564 - accuracy: 0.7890\n",
      "Epoch 10/10\n",
      "63/63 [==============================] - 70s 1s/step - loss: 0.1505 - accuracy: 0.7915\n",
      "32/32 [==============================] - 6s 185ms/step - loss: 0.1261 - accuracy: 0.8340\n",
      "[0.1260536015033722, 0.8339999914169312]\n",
      "63/63 [==============================] - 12s 192ms/step - loss: 0.1295 - accuracy: 0.8250\n",
      "[0.12952378392219543, 0.824999988079071]\n"
     ]
    }
   ],
   "source": [
    "# bugs animals dogs vehicles clothes sport furniture fruit\n",
    "\n",
    "(X_test, y_test) = train_model(bugs, vehicles, 10)"
   ]
  },
  {
   "cell_type": "markdown",
   "metadata": {
    "id": "J3GCB068bmVk"
   },
   "source": [
    "Let's look at some of the categorization the learning network does."
   ]
  },
  {
   "cell_type": "code",
   "execution_count": 27,
   "metadata": {
    "colab": {
     "base_uri": "https://localhost:8080/",
     "height": 135
    },
    "executionInfo": {
     "elapsed": 124,
     "status": "ok",
     "timestamp": 1712698132212,
     "user": {
      "displayName": "Michael Littman",
      "userId": "06751891446459829367"
     },
     "user_tz": 240
    },
    "id": "3n16LRlBKClV",
    "outputId": "936b1ab9-73b7-4410-986b-b22cd517406c"
   },
   "outputs": [
    {
     "name": "stdout",
     "output_type": "stream",
     "text": [
      "1/1 [==============================] - 0s 31ms/step\n",
      "Picture is labeled as a bug.\n",
      "Model believes it is a bug (0.3438386).\n"
     ]
    },
    {
     "data": {
      "image/jpeg": "[encoded data removed]",
      "image/png": "[encoded data removed]",
      "text/plain": [
       "<PIL.Image.Image image mode=RGB size=64x64>"
      ]
     },
     "execution_count": 27,
     "metadata": {},
     "output_type": "execute_result"
    }
   ],
   "source": [
    "dotest([\"a bug\", \"a vehicle\"])"
   ]
  },
  {
   "cell_type": "code",
   "execution_count": null,
   "metadata": {},
   "outputs": [],
   "source": []
  }
 ],
 "metadata": {
  "accelerator": "GPU",
  "colab": {
   "gpuType": "T4",
   "provenance": [
    {
     "file_id": "1TeXNt4xRSj-_Dx5MmuhZZ5-bLtjDNkhV",
     "timestamp": 1713905661276
    },
    {
     "file_id": "https://github.com/mlittmancs/great_courses_ml/blob/master/L15.ipynb",
     "timestamp": 1712440741246
    }
   ],
   "toc_visible": true
  },
  "kernelspec": {
   "display_name": "Python 3 (ipykernel)",
   "language": "python",
   "name": "python3"
  },
  "language_info": {
   "codemirror_mode": {
    "name": "ipython",
    "version": 3
   },
   "file_extension": ".py",
   "mimetype": "text/x-python",
   "name": "python",
   "nbconvert_exporter": "python",
   "pygments_lexer": "ipython3",
   "version": "3.10.12"
  }
 },
 "nbformat": 4,
 "nbformat_minor": 1
}
